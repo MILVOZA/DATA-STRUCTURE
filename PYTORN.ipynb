{
  "nbformat": 4,
  "nbformat_minor": 0,
  "metadata": {
    "colab": {
      "provenance": [],
      "authorship_tag": "ABX9TyN4Ey9jVpLmdzbr7PG/YWre",
      "include_colab_link": true
    },
    "kernelspec": {
      "name": "python3",
      "display_name": "Python 3"
    },
    "language_info": {
      "name": "python"
    }
  },
  "cells": [
    {
      "cell_type": "markdown",
      "metadata": {
        "id": "view-in-github",
        "colab_type": "text"
      },
      "source": [
        "<a href=\"https://colab.research.google.com/github/MILVOZA/DATA-STRUCTURE/blob/main/PYTORN.ipynb\" target=\"_parent\"><img src=\"https://colab.research.google.com/assets/colab-badge.svg\" alt=\"Open In Colab\"/></a>"
      ]
    },
    {
      "cell_type": "code",
      "execution_count": 15,
      "metadata": {
        "colab": {
          "base_uri": "https://localhost:8080/"
        },
        "id": "Q5U8W7NkRr6b",
        "outputId": "b5b4ab22-6449-499d-f4c9-21082bd379f0"
      },
      "outputs": [
        {
          "output_type": "stream",
          "name": "stdout",
          "text": [
            "Enter your name:\n",
            "tony\\\n",
            "Hello, tony\\\n",
            "The students in total are: 10\n",
            "{'Juan': 1, 'Duan': 2, 'Trese': 3, 'Quarto': 4, 'Lima': 5, 'Amine': 6, 'Pitoe': 7, 'Waloe': 8, 'Siyarm': 9, 'Shiyampu': 10}\n",
            "Enter the student name:\n",
            "kulot\n",
            "The student's score is: Student not found\n",
            "tony\\, The Total Scores of the students are: 55\n",
            "And the average of the scores are: 5.5\n",
            "Thank you, tony\\\n"
          ]
        }
      ],
      "source": [
        "print(\"Enter your name:\")\n",
        "x = input()\n",
        "print(\"Hello, \" + x)\n",
        "\n",
        "\n",
        "D = dict ()\n",
        "D [\"Juan\"] = 1\n",
        "D [\"Duan\"] = 2\n",
        "D [\"Trese\"] = 3\n",
        "D [\"Quarto\"] = 4\n",
        "D [\"Lima\"] = 5\n",
        "D [\"Amine\"] = 6\n",
        "D [\"Pitoe\"] = 7\n",
        "D [\"Waloe\"] = 8\n",
        "D [\"Siyarm\"] = 9\n",
        "D [\"Shiyampu\"] = 10\n",
        "\n",
        "print (\"The students in total are:\" ,len(D))\n",
        "\n",
        "print (D)\n",
        "\n",
        "print (\"Enter the student name:\")\n",
        "z = input()\n",
        "\n",
        "print (\"The student's score is:\" ,(D.get(z, \"Student not found\")))\n",
        "\n",
        "total = sum(D.values())\n",
        "\n",
        "\n",
        "print (x +\", The Total Scores of the students are:\", total)\n",
        "\n",
        "average = sum(D.values()) / len(D)\n",
        "\n",
        "print (\"And the average of the scores are:\", average)\n",
        "\n",
        "print (\"Thank you, \" + x)"
      ]
    }
  ]
}