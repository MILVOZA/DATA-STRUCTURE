{
  "nbformat": 4,
  "nbformat_minor": 0,
  "metadata": {
    "colab": {
      "provenance": [],
      "authorship_tag": "ABX9TyOJdUbJAmaVbLSQhyfROCRx",
      "include_colab_link": true
    },
    "kernelspec": {
      "name": "python3",
      "display_name": "Python 3"
    },
    "language_info": {
      "name": "python"
    }
  },
  "cells": [
    {
      "cell_type": "markdown",
      "metadata": {
        "id": "view-in-github",
        "colab_type": "text"
      },
      "source": [
        "<a href=\"https://colab.research.google.com/github/MILVOZA/DATA-STRUCTURE/blob/main/Python1ACT.ipynb\" target=\"_parent\"><img src=\"https://colab.research.google.com/assets/colab-badge.svg\" alt=\"Open In Colab\"/></a>"
      ]
    },
    {
      "cell_type": "code",
      "source": [
        "d = dict ()\n",
        "\n",
        "d  [\"Wan\"] = 1\n",
        "d  [\"Dos\"] = 2\n",
        "d  [\"Trese\"] = 3\n",
        "d  [\"Pores\"] = 4\n",
        "d  [\"Limo\"] = 5\n",
        "d  [\"Anim\"] = 6\n",
        "d  [\"Pitoe\"] = 7\n",
        "d  [\"Eyy\"] = 8\n",
        "d  [\"Nein\"] = 9\n",
        "d  [\"Tin\"] = 10\n",
        "\n",
        "total = sum(d.values())\n",
        "print(total)\n",
        "\n",
        "average = sum(d.values()) / len(d)\n",
        "print(average)\n",
        "\n"
      ],
      "metadata": {
        "colab": {
          "base_uri": "https://localhost:8080/"
        },
        "id": "xxxfp_vN11zx",
        "outputId": "bdaf660e-19d9-49cd-ef3c-a5dfa919275b"
      },
      "execution_count": null,
      "outputs": [
        {
          "output_type": "stream",
          "name": "stdout",
          "text": [
            "55\n",
            "5.5\n"
          ]
        }
      ]
    }
  ]
}